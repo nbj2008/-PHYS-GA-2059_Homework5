{
 "cells": [
  {
   "cell_type": "code",
   "execution_count": 1,
   "id": "4d312d99-342e-442a-b62d-3ebaf534b1ad",
   "metadata": {},
   "outputs": [],
   "source": [
    "# File System\n",
    "import os, sys, pickle as pkl\n",
    "from os import path as pth\n",
    "import itertools as it\n",
    "from glob import glob\n",
    "\n",
    "# Plotting\n",
    "from matplotlib import pyplot as plt\n",
    "from matplotlib import ticker as mticker\n",
    "from corner import corner\n",
    "\n",
    "# Math\n",
    "import numpy as np\n",
    "from numpy import linalg as la\n",
    "import pandas as pd\n",
    "pd.options.mode.chained_assignment = None\n",
    "\n",
    "from scipy.stats import norm, uniform, multivariate_normal\n",
    "from scipy.spatial.distance import cdist\n",
    "import scipy.optimize as opt\n",
    "from functools import reduce, partial\n",
    "from itertools import product, combinations, combinations_with_replacement\n",
    "\n",
    "#Data Structs\n",
    "from collections import defaultdict\n",
    "\n",
    "# Display\n",
    "from IPython.display import clear_output\n",
    "from IPython.core.interactiveshell import InteractiveShell\n",
    "InteractiveShell.ast_node_interactivity = 'all'\n",
    "import logging as lg\n",
    "lg.basicConfig(level=lg.INFO)\n",
    "\n",
    "sys.path.append(pth.join(\"..\"))\n",
    "from Model import TwoSignal, Signal\n",
    "from mcmc import MHMCMC\n",
    "\n",
    "data_path = \"data\""
   ]
  },
  {
   "cell_type": "code",
   "execution_count": 2,
   "id": "0a3c4fd2-791e-4f69-a473-07ec59b949d0",
   "metadata": {},
   "outputs": [],
   "source": [
    "def format_params(bp, rp):\n",
    "    rp0 = rp[0]\n",
    "    return (bp.T/rp.T[0]).T, (rp.T/rp.T[0]).T\n",
    "\n",
    "def prep_x_data(*args):\n",
    "    return np.concatenate([*args],axis=1)\n",
    "\n",
    "def fit_params(X, labels):\n",
    "    return la.solve((X.T @ X), X.T @ labels)\n",
    "\n",
    "def fit_params_ridge(X, Λ, labels):\n",
    "    return la.solve((X.T @ X + Λ), X.T @ labels)\n",
    "\n",
    "def rms(labels, β, X):\n",
    "    return np.sqrt(np.mean(np.power(β@X.T - labels, 2)))"
   ]
  },
  {
   "cell_type": "markdown",
   "id": "8cfc6fa4-bd3b-4158-bd40-37b60da09e4f",
   "metadata": {},
   "source": [
    "### Load Data"
   ]
  },
  {
   "cell_type": "code",
   "execution_count": 3,
   "id": "c55eebc0-d5a9-46a6-a0ad-f18ad31da252",
   "metadata": {},
   "outputs": [],
   "source": [
    "data = dict()\n",
    "\n",
    "with open(glob(pth.join(data_path, \"*train*\"))[0],'rb') as tr\\\n",
    "    ,open(glob(pth.join(data_path, \"*valid*\"))[0],'rb') as vd:\n",
    "        data['train'] = pkl.load(tr)\n",
    "        data['valid'] = pkl.load(vd)"
   ]
  },
  {
   "cell_type": "markdown",
   "id": "013dafc1-3b4e-4556-9921-b60628c5725b",
   "metadata": {},
   "source": [
    "### Problem 1"
   ]
  },
  {
   "cell_type": "code",
   "execution_count": 4,
   "id": "0381cf13-732f-483d-9139-ab92a33749eb",
   "metadata": {},
   "outputs": [],
   "source": [
    "t = data['train']\n",
    "\n",
    "bp = t['bp_coef']\n",
    "rp = t['rp_coef']\n",
    "labels = t['labels'][:,0]"
   ]
  },
  {
   "cell_type": "code",
   "execution_count": 5,
   "id": "53c06c70-9f34-4d71-b1be-67cfef1291ec",
   "metadata": {},
   "outputs": [
    {
     "data": {
      "text/plain": [
       "108.032154255841"
      ]
     },
     "execution_count": 5,
     "metadata": {},
     "output_type": "execute_result"
    }
   ],
   "source": [
    "X = prep_x_data(*format_params(bp, rp))\n",
    "β = fit_params(X, labels)\n",
    "\n",
    "rms(labels, β, X)"
   ]
  },
  {
   "cell_type": "markdown",
   "id": "5d998a29-5f29-48d0-96fa-0ce9a2b6dc79",
   "metadata": {},
   "source": [
    "##### Check Validation"
   ]
  },
  {
   "cell_type": "code",
   "execution_count": 6,
   "id": "59ee73dd-87d3-4711-b26e-4ddde1b794f0",
   "metadata": {},
   "outputs": [],
   "source": [
    "v = data['valid']\n",
    "\n",
    "bp_valid = v['bp_coef']\n",
    "rp_valid = v['rp_coef']\n",
    "v_labels = v['labels'][:,0]"
   ]
  },
  {
   "cell_type": "code",
   "execution_count": 7,
   "id": "f7daafc9-47d7-48af-9817-cdbb8b4ce448",
   "metadata": {},
   "outputs": [
    {
     "data": {
      "text/plain": [
       "128.9816696764992"
      ]
     },
     "execution_count": 7,
     "metadata": {},
     "output_type": "execute_result"
    }
   ],
   "source": [
    "X_valid = prep_x_data(*format_params(bp_valid, rp_valid))\n",
    "\n",
    "rms(v_labels, β, X_valid)"
   ]
  },
  {
   "cell_type": "markdown",
   "id": "c0f7b7cf-553f-4cfe-884c-c9482d76b22c",
   "metadata": {},
   "source": [
    "From root-mean square comparision of parameters, the found parameters are able to fit to the validation set well"
   ]
  },
  {
   "cell_type": "markdown",
   "id": "c2de2a81-90ce-43ee-bdb9-26be18240f61",
   "metadata": {},
   "source": [
    "### Problem 2"
   ]
  },
  {
   "cell_type": "code",
   "execution_count": 8,
   "id": "f667a220-aef3-4709-b79b-a3ee1ffab045",
   "metadata": {},
   "outputs": [],
   "source": [
    "t = data['train']\n",
    "\n",
    "bp = t['bp_coef']\n",
    "rp = t['rp_coef']\n",
    "labels = t['labels'][:,0]\n",
    "\n",
    "_, rp2 = format_params(bp, rp)\n",
    "\n",
    "v = data['valid']\n",
    "\n",
    "bp_valid = v['bp_coef']\n",
    "rp_valid = v['rp_coef']\n",
    "v_labels = v['labels'][:,0]\n",
    "\n",
    "_, v_rp2 = format_params(bp_valid, rp_valid)\n"
   ]
  },
  {
   "cell_type": "code",
   "execution_count": 9,
   "id": "efd412c4-f239-43f0-bd62-08f0c263aeab",
   "metadata": {},
   "outputs": [],
   "source": [
    "sq_non_rpt_rang = [*combinations_with_replacement(np.arange(1,rp2.shape[1]),2)]\n",
    "cu_non_rpt_rang = [*combinations_with_replacement(np.arange(1,rp2.shape[1]),3)]\n",
    "\n",
    "#Train Terms\n",
    "sq_terms = [rp2[:,x] * rp2[:,y] for x,y in sq_non_rpt_rang]\n",
    "cu_terms = [rp2[:,x] * rp2[:,y] * rp2[:,z] for x,y,z in cu_non_rpt_rang]\n",
    "\n",
    "#Valid Terms\n",
    "v_sq_terms = [v_rp2[:,x] * v_rp2[:,y] for x,y in sq_non_rpt_rang]\n",
    "v_cu_terms = [v_rp2[:,x] * v_rp2[:,y] * v_rp2[:,z] for x,y,z in cu_non_rpt_rang]"
   ]
  },
  {
   "cell_type": "markdown",
   "id": "c71ee2ac-1dbd-491e-a9ae-279587cb3fd5",
   "metadata": {},
   "source": [
    "#### Linear Fit"
   ]
  },
  {
   "cell_type": "markdown",
   "id": "a7b5b61f-b1c9-437a-8a70-6aba9e2a01a2",
   "metadata": {},
   "source": [
    "##### Train"
   ]
  },
  {
   "cell_type": "code",
   "execution_count": 10,
   "id": "b1f86e3e-8d87-4f55-be42-647c44d3d7f9",
   "metadata": {},
   "outputs": [
    {
     "data": {
      "text/plain": [
       "171.0454462433648"
      ]
     },
     "execution_count": 10,
     "metadata": {},
     "output_type": "execute_result"
    }
   ],
   "source": [
    "XL = prep_x_data(rp2)\n",
    "βL = fit_params(XL, labels)\n",
    "\n",
    "rms(labels, βL, XL)"
   ]
  },
  {
   "cell_type": "markdown",
   "id": "c72cf4fc-6d41-4bc7-86b9-b5212313015f",
   "metadata": {},
   "source": [
    "##### Validate"
   ]
  },
  {
   "cell_type": "code",
   "execution_count": 11,
   "id": "06168575-9a71-4721-a90b-12b9e72a4350",
   "metadata": {},
   "outputs": [
    {
     "data": {
      "text/plain": [
       "198.98598170446655"
      ]
     },
     "execution_count": 11,
     "metadata": {},
     "output_type": "execute_result"
    }
   ],
   "source": [
    "XL_valid = prep_x_data(v_rp2)\n",
    "\n",
    "\n",
    "rms(v_labels, βL, XL_valid)"
   ]
  },
  {
   "cell_type": "markdown",
   "id": "be0ea6dd-733e-450b-b883-587045fccebe",
   "metadata": {},
   "source": [
    "##### Square Fit"
   ]
  },
  {
   "cell_type": "markdown",
   "id": "a005a24b-a2cb-4c24-adfb-fdd4afe4ef96",
   "metadata": {},
   "source": [
    "##### Train"
   ]
  },
  {
   "cell_type": "code",
   "execution_count": 12,
   "id": "51e08657-265e-4825-b8de-13cbe06c3eea",
   "metadata": {},
   "outputs": [
    {
     "data": {
      "text/plain": [
       "69.4680240088949"
      ]
     },
     "execution_count": 12,
     "metadata": {},
     "output_type": "execute_result"
    }
   ],
   "source": [
    "XS = prep_x_data(rp2, np.stack(sq_terms, axis=1))\n",
    "βS = fit_params(XS, labels)\n",
    "\n",
    "rms(labels, βS, XS)"
   ]
  },
  {
   "cell_type": "markdown",
   "id": "841d8ee3-0a14-4ab2-af2f-ce43924e3aa7",
   "metadata": {},
   "source": [
    "##### Validate"
   ]
  },
  {
   "cell_type": "code",
   "execution_count": 13,
   "id": "caf9e0e1-2687-4bed-88da-f79f46677048",
   "metadata": {},
   "outputs": [
    {
     "data": {
      "text/plain": [
       "2145.496146823512"
      ]
     },
     "execution_count": 13,
     "metadata": {},
     "output_type": "execute_result"
    }
   ],
   "source": [
    "XS_valid = prep_x_data(v_rp2, np.stack(v_sq_terms, axis=1))\n",
    "\n",
    "rms(v_labels, βS, XS_valid)"
   ]
  },
  {
   "cell_type": "markdown",
   "id": "84cc5cf8-eff7-4dee-a6cc-b55bec69c9e6",
   "metadata": {},
   "source": [
    "##### Ridge Test (For Fun)"
   ]
  },
  {
   "cell_type": "code",
   "execution_count": 14,
   "id": "5ff805a2-2f21-43fb-a095-f030b240dfcf",
   "metadata": {},
   "outputs": [
    {
     "data": {
      "text/plain": [
       "133.79111019459395"
      ]
     },
     "execution_count": 14,
     "metadata": {},
     "output_type": "execute_result"
    },
    {
     "data": {
      "text/plain": [
       "133.97175531089923"
      ]
     },
     "execution_count": 14,
     "metadata": {},
     "output_type": "execute_result"
    }
   ],
   "source": [
    "λ = 1e-5\n",
    "ΛS = λ*np.eye(XS.shape[1])\n",
    "βS_ridge = fit_params_ridge(XS, ΛS, labels)\n",
    "\n",
    "rms(labels, βS_ridge, XS)\n",
    "rms(v_labels, βS_ridge, XS_valid)"
   ]
  },
  {
   "cell_type": "markdown",
   "id": "a47043c9-9202-4699-8ea3-6cda63c3bb1a",
   "metadata": {},
   "source": [
    "##### Cube Fit"
   ]
  },
  {
   "cell_type": "markdown",
   "id": "c40dbbe6-69a1-4473-bbae-657a8a6524ea",
   "metadata": {},
   "source": [
    "##### Train"
   ]
  },
  {
   "cell_type": "code",
   "execution_count": 15,
   "id": "7a56aa0c-b2ea-4f36-b597-ed677060d5e6",
   "metadata": {},
   "outputs": [
    {
     "data": {
      "text/plain": [
       "3.951324984160421e-06"
      ]
     },
     "execution_count": 15,
     "metadata": {},
     "output_type": "execute_result"
    }
   ],
   "source": [
    "XC = prep_x_data(rp2, np.stack(sq_terms, axis=1), np.stack(cu_terms, axis=1))\n",
    "βC = fit_params(XC, labels)\n",
    "\n",
    "rms(labels, βC, XC)"
   ]
  },
  {
   "cell_type": "markdown",
   "id": "1736cf00-3025-4303-a60b-07358426bd75",
   "metadata": {},
   "source": [
    "##### Validate"
   ]
  },
  {
   "cell_type": "code",
   "execution_count": 16,
   "id": "fc167527-04bb-476a-a0dc-796cac8b14c9",
   "metadata": {},
   "outputs": [
    {
     "data": {
      "text/plain": [
       "2069819.3577963437"
      ]
     },
     "execution_count": 16,
     "metadata": {},
     "output_type": "execute_result"
    }
   ],
   "source": [
    "XC_valid = prep_x_data(v_rp2, np.stack(v_sq_terms, axis=1), np.stack(v_cu_terms, axis=1))\n",
    "\n",
    "rms(v_labels, βC, XC_valid)"
   ]
  },
  {
   "cell_type": "markdown",
   "id": "48ef46af-f40a-44b6-92cf-0bf8add15170",
   "metadata": {},
   "source": [
    "##### Ridge Test (For Fun)"
   ]
  },
  {
   "cell_type": "code",
   "execution_count": 18,
   "id": "5cc97470-5dfe-455d-9bae-e5c84f592071",
   "metadata": {},
   "outputs": [
    {
     "data": {
      "text/plain": [
       "120.36578744103184"
      ]
     },
     "execution_count": 18,
     "metadata": {},
     "output_type": "execute_result"
    },
    {
     "data": {
      "text/plain": [
       "142.01882572070278"
      ]
     },
     "execution_count": 18,
     "metadata": {},
     "output_type": "execute_result"
    }
   ],
   "source": [
    "λ = 1e-6\n",
    "ΛC = λ*np.eye(XC.shape[1])\n",
    "βC_ridge = fit_params_ridge(XC, ΛC, labels)\n",
    "\n",
    "rms(labels, βC_ridge, XC)\n",
    "rms(v_labels, βC_ridge, XC_valid)"
   ]
  },
  {
   "cell_type": "markdown",
   "id": "1968abc0-f49e-492b-bd7e-f75cdb4c3f50",
   "metadata": {},
   "source": [
    "As the parameters grow, the overfitting grows too. Some improvement can be made using ridge regression"
   ]
  },
  {
   "cell_type": "markdown",
   "id": "69644f09-4bcc-4b5b-b9e0-c0ace898472c",
   "metadata": {},
   "source": [
    "### Problem 3"
   ]
  },
  {
   "cell_type": "code",
   "execution_count": 63,
   "id": "dd8bb674-56e8-48b0-a028-80866a70c44c",
   "metadata": {},
   "outputs": [],
   "source": [
    "with open(glob(pth.join(data_path, \"*dataset11*\"))[0], 'rb') as f:\n",
    "    data3 = pkl.load(f)\n"
   ]
  },
  {
   "cell_type": "code",
   "execution_count": 160,
   "id": "83cf0b8a-56ad-44e7-9e1e-ef74404bc203",
   "metadata": {},
   "outputs": [],
   "source": [
    "def matern(X, Y, σ=1, τ=1):\n",
    "    dist = np.sqrt(3)/τ * cdist(X,Y, metric='minkowski',p=1)\n",
    "    return np.power(σ,2) * (1 + dist) * np.exp(-dist)\n",
    "\n",
    "X_p = np.expand_dims(np.linspace(0, 1_024*2, num=2**12), 1)\n",
    "time = np.expand_dims(data3.time, 1)\n",
    "\n",
    "K11 = matern(time, time)\n",
    "K12 = matern(time, X_p)\n",
    "K22 = matern(X_p, X_p)\n",
    "\n",
    "Y = np.expand_dims(data3.data, 1)"
   ]
  },
  {
   "cell_type": "code",
   "execution_count": 165,
   "id": "3dbf385a-e626-46d0-b04a-a0b965f48a04",
   "metadata": {},
   "outputs": [],
   "source": [
    "λ = 1e-21\n",
    "inv = la.solve((K11 + λ * np.eye(K11.shape[0])), K12).T\n",
    "\n",
    "Y_pred = inv @ Y\n",
    "cov = K22 - inv @ K12\n",
    "\n",
    "σ = np.sqrt(np.diag(cov))"
   ]
  },
  {
   "cell_type": "code",
   "execution_count": 166,
   "id": "af4b0fea-71de-4641-9c50-9359bdeae88b",
   "metadata": {},
   "outputs": [
    {
     "data": {
      "text/plain": [
       "[<matplotlib.lines.Line2D at 0x7ff2060aded0>]"
      ]
     },
     "execution_count": 166,
     "metadata": {},
     "output_type": "execute_result"
    },
    {
     "data": {
      "text/plain": [
       "<matplotlib.collections.PathCollection at 0x7ff2060ac250>"
      ]
     },
     "execution_count": 166,
     "metadata": {},
     "output_type": "execute_result"
    },
    {
     "data": {
      "text/plain": [
       "<matplotlib.collections.PolyCollection at 0x7ff2060ac340>"
      ]
     },
     "execution_count": 166,
     "metadata": {},
     "output_type": "execute_result"
    },
    {
     "data": {
      "image/png": "[encoded data removed]",
      "text/plain": [
       "<Figure size 640x480 with 1 Axes>"
      ]
     },
     "metadata": {},
     "output_type": "display_data"
    }
   ],
   "source": [
    "fig, ax = plt.figure(), plt.gca()\n",
    "\n",
    "\n",
    "ax.plot(X_p, Y_pred)\n",
    "ax.scatter(data3.time, data3.data, color=\"k\")\n",
    "ax.fill_between(X_p[:,0], (Y_pred + 2*σ)[:,0], (Y_pred - 2*σ)[:,0], alpha=0.2, color='r')"
   ]
  },
  {
   "cell_type": "code",
   "execution_count": null,
   "id": "f483a536-5285-4877-8a18-f00f0afb742a",
   "metadata": {},
   "outputs": [],
   "source": []
  },
  {
   "cell_type": "code",
   "execution_count": null,
   "id": "67c61f0d-9aa9-41d7-b2ed-0d5ad150db96",
   "metadata": {},
   "outputs": [],
   "source": []
  }
 ],
 "metadata": {
  "kernelspec": {
   "display_name": "Python 3 (ipykernel)",
   "language": "python",
   "name": "python3"
  },
  "language_info": {
   "codemirror_mode": {
    "name": "ipython",
    "version": 3
   },
   "file_extension": ".py",
   "mimetype": "text/x-python",
   "name": "python",
   "nbconvert_exporter": "python",
   "pygments_lexer": "ipython3",
   "version": "3.10.6"
  }
 },
 "nbformat": 4,
 "nbformat_minor": 5
}
