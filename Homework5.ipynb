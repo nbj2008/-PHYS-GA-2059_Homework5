{
 "cells": [
  {
   "cell_type": "code",
   "execution_count": 2,
   "id": "4d312d99-342e-442a-b62d-3ebaf534b1ad",
   "metadata": {},
   "outputs": [],
   "source": [
    "# File System\n",
    "import os, sys, pickle as pkl\n",
    "from os import path as pth\n",
    "import itertools as it\n",
    "from glob import glob\n",
    "\n",
    "# Plotting\n",
    "from matplotlib import pyplot as plt\n",
    "from matplotlib import ticker as mticker\n",
    "from corner import corner\n",
    "\n",
    "# Math\n",
    "import numpy as np\n",
    "from numpy import linalg as la\n",
    "import pandas as pd\n",
    "pd.options.mode.chained_assignment = None\n",
    "\n",
    "from scipy.stats import norm, uniform, multivariate_normal\n",
    "import scipy.optimize as opt\n",
    "from functools import reduce, partial\n",
    "\n",
    "#Data Structs\n",
    "from collections import defaultdict\n",
    "\n",
    "# Display\n",
    "from IPython.display import clear_output\n",
    "from IPython.core.interactiveshell import InteractiveShell\n",
    "InteractiveShell.ast_node_interactivity = 'all'\n",
    "import logging as lg\n",
    "lg.basicConfig(level=lg.INFO)\n",
    "\n",
    "sys.path.append(pth.join(\"..\"))\n",
    "from Model import TwoSignal, Signal\n",
    "from mcmc import MHMCMC\n",
    "\n",
    "data_path = \"data\""
   ]
  },
  {
   "cell_type": "code",
   "execution_count": 4,
   "id": "c55eebc0-d5a9-46a6-a0ad-f18ad31da252",
   "metadata": {},
   "outputs": [],
   "source": [
    "data = dict()\n",
    "\n",
    "with open(glob(pth.join(data_path, \"*train*\"))[0],'rb') as tr\\\n",
    "    ,open(glob(pth.join(data_path, \"*valid*\"))[0],'rb') as vd:\n",
    "        data['train'] = pkl.load(tr)\n",
    "        data['valid'] = pkl.load(vd)"
   ]
  },
  {
   "cell_type": "code",
   "execution_count": 6,
   "id": "4fd59286-8117-417d-a7b8-15bdd79ee1dc",
   "metadata": {},
   "outputs": [
    {
     "data": {
      "text/plain": [
       "{'bp_coef': array([[ 5.07578286e+04, -5.17054450e+03, -1.20813118e+03, ...,\n",
       "         -2.27849615e-01, -1.50263621e+00, -1.18399576e+00],\n",
       "        [ 1.47809559e+04, -6.93234003e+00, -7.36025117e+02, ...,\n",
       "         -1.30689399e-01, -8.06343107e-02,  2.01984027e-01],\n",
       "        [ 1.23582628e+04,  1.15931915e+02, -5.88475743e+02, ...,\n",
       "         -2.35552324e-01,  1.02886697e-01, -8.56639073e-02],\n",
       "        ...,\n",
       "        [ 2.33231583e+04, -5.19157281e+02, -9.87775213e+02, ...,\n",
       "          2.31345808e-01, -1.56367395e-01, -3.98727844e-02],\n",
       "        [ 1.18620840e+05, -3.32809943e+03, -5.32420266e+03, ...,\n",
       "          3.91741591e+01, -1.00676373e+01,  5.60543737e-01],\n",
       "        [ 4.56386940e+04, -9.18422099e+03,  5.01602007e+02, ...,\n",
       "         -1.18198395e+01, -7.08529864e-01,  6.33268687e+00]]),\n",
       " 'rp_coef': array([[ 5.53155202e+04, -7.22708471e+03, -2.53207539e+02, ...,\n",
       "          1.15257240e+00,  8.25811293e-01,  5.98844318e-01],\n",
       "        [ 2.00417429e+04, -1.54443900e+03,  4.15355952e+01, ...,\n",
       "          2.02687777e-03, -1.80843069e-02,  3.68620607e-02],\n",
       "        [ 1.74154687e+04, -1.15246389e+03,  4.70312979e+01, ...,\n",
       "          4.61786352e-01,  1.26856988e-01,  8.39551256e-03],\n",
       "        ...,\n",
       "        [ 3.05439631e+04, -2.51917551e+03,  1.03906870e+01, ...,\n",
       "          1.35452236e-01,  1.80392255e-01,  2.47127654e-01],\n",
       "        [ 1.47433690e+05, -1.52370333e+04, -5.52119312e+02, ...,\n",
       "         -2.27284291e-02,  4.60087744e+00,  1.20489350e+00],\n",
       "        [ 4.12394384e+04, -7.10418425e+03, -7.99378961e+02, ...,\n",
       "         -1.48536474e+00, -6.10916847e+00,  6.06870903e-01]]),\n",
       " 'labels': array([[5.2720498e+03, 3.3974388e+00],\n",
       "        [4.5895840e+03, 2.3790669e+00],\n",
       "        [4.6469248e+03, 2.7418506e+00],\n",
       "        ...,\n",
       "        [4.8628286e+03, 2.7385812e+00],\n",
       "        [4.8038276e+03, 2.6692705e+00],\n",
       "        [6.0111436e+03, 4.0056038e+00]], dtype=float32)}"
      ]
     },
     "execution_count": 6,
     "metadata": {},
     "output_type": "execute_result"
    }
   ],
   "source": []
  }
 ],
 "metadata": {
  "kernelspec": {
   "display_name": "Python 3 (ipykernel)",
   "language": "python",
   "name": "python3"
  },
  "language_info": {
   "codemirror_mode": {
    "name": "ipython",
    "version": 3
   },
   "file_extension": ".py",
   "mimetype": "text/x-python",
   "name": "python",
   "nbconvert_exporter": "python",
   "pygments_lexer": "ipython3",
   "version": "3.10.6"
  }
 },
 "nbformat": 4,
 "nbformat_minor": 5
}
